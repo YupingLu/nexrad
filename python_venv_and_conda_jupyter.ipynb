{
 "cells": [
  {
   "cell_type": "markdown",
   "metadata": {},
   "source": [
    "``` shell\n",
    "# Use Bash here\n",
    "\n",
    "# Setting up virtual environment\n",
    "mkdir env\n",
    "cd env\n",
    "\n",
    "# python 2:\n",
    "python -m virtualenv research\n",
    "\n",
    "# python 3:\n",
    "python -m venv research\n",
    "```"
   ]
  },
  {
   "cell_type": "markdown",
   "metadata": {},
   "source": [
    "``` shell\n",
    "# Activate virtual environment and start notebook\n",
    "source env/research/bin/activate\n",
    "\n",
    "# Run notebook\n",
    "jupyter notebook\n",
    "\n",
    "# Run jupyterlab\n",
    "jupyter lab\n",
    "\n",
    "# Check open notebooks\n",
    "jupyter notebook list\n",
    "\n",
    "# Close notebook on port 8888\n",
    "jupyter notebook stop 8888\n",
    "```"
   ]
  },
  {
   "cell_type": "markdown",
   "metadata": {},
   "source": [
    "``` shell\n",
    "# Port forwarding to hydra12\n",
    "ssh -L 8888:localhost:8888 ylu20@hydra12.eecs.utk.edu\n",
    "\n",
    "# Port forwarding to research.dmf.arm.gov\n",
    "ssh -L 8888:localhost:8888 yuping@research.dmf.arm.gov\n",
    "\n",
    "# Create alias\n",
    "alias jupyter='source /home/ylu20/research/bin/activate; jupyter notebook'\n",
    "```"
   ]
  },
  {
   "cell_type": "markdown",
   "metadata": {},
   "source": [
    "``` shell\n",
    "# Install Anaconda\n",
    "bash Anaconda.sh\n",
    "\n",
    "# Install Miniconda\n",
    "bash Miniconda.sh\n",
    "```"
   ]
  },
  {
   "cell_type": "markdown",
   "metadata": {},
   "source": [
    "``` shell\n",
    "# Install jupyter and jupyterlab from miniconda\n",
    "conda install jupyter\n",
    "conda install jupyterlab\n",
    "```"
   ]
  },
  {
   "cell_type": "markdown",
   "metadata": {},
   "source": [
    "``` shell\n",
    "# Install pyart from conda\n",
    "conda update conda \n",
    "conda install -c conda-forge arm_pyart \n",
    "conda install basemap\n",
    "```"
   ]
  },
  {
   "cell_type": "markdown",
   "metadata": {},
   "source": [
    "``` shell\n",
    "# option 1\n",
    "ssh -N -f -L 8888:localhost:8888 yuping@research.dmf.arm.gov\n",
    "# -N      Do not execute a remote command.  This is useful for just forwarding ports (protocol version 2\n",
    "#         only).\n",
    "# -f      Requests ssh to go to background just before command execution.  This is useful if ssh is going to\n",
    "#         ask for passwords or passphrases, but the user wants it in the background.  This implies -n.  The\n",
    "#         recommended way to start X11 programs at a remote site is with something like ssh -f host xterm.\n",
    "\n",
    "#         If the ExitOnForwardFailure configuration option is set to “yes”, then a client started with -f\n",
    "#         will wait for all remote port forwards to be successfully established before placing itself in the\n",
    "#         background.\n",
    "\n",
    "bash\n",
    "\n",
    "# option 1\n",
    "jupyter lab --no-browser --port=8888\n",
    "\n",
    "# option 2\n",
    "jupyter lab --no-browser --port=8888 &\n",
    "\n",
    "# We may create alias for these shell commands\n",
    "```"
   ]
  }
 ],
 "metadata": {
  "kernelspec": {
   "display_name": "Python 3",
   "language": "python",
   "name": "python3"
  },
  "language_info": {
   "codemirror_mode": {
    "name": "ipython",
    "version": 3
   },
   "file_extension": ".py",
   "mimetype": "text/x-python",
   "name": "python",
   "nbconvert_exporter": "python",
   "pygments_lexer": "ipython3",
   "version": "3.6.5"
  }
 },
 "nbformat": 4,
 "nbformat_minor": 2
}
